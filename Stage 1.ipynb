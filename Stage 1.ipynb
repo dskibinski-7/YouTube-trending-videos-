{
 "cells": [
  {
   "cell_type": "code",
   "execution_count": 40,
   "id": "7d4ae3b8",
   "metadata": {},
   "outputs": [
    {
     "name": "stderr",
     "output_type": "stream",
     "text": [
      "[nltk_data] Downloading package stopwords to\n",
      "[nltk_data]     C:\\Users\\skibi\\AppData\\Roaming\\nltk_data...\n",
      "[nltk_data]   Package stopwords is already up-to-date!\n"
     ]
    }
   ],
   "source": [
    "import pandas as pd\n",
    "import numpy as np\n",
    "import seaborn as sns\n",
    "import matplotlib.pyplot as plt\n",
    "import warnings\n",
    "import emoji\n",
    "import string\n",
    "import re\n",
    "import nltk\n",
    "from nltk.corpus import stopwords\n",
    "from nltk.tokenize import word_tokenize\n",
    "from collections import Counter\n",
    "\n",
    "warnings.filterwarnings('ignore')\n",
    "nltk.download('stopwords')\n",
    "sns.set(style=\"whitegrid\")"
   ]
  },
  {
   "cell_type": "code",
   "execution_count": 41,
   "id": "b69dd798",
   "metadata": {},
   "outputs": [],
   "source": [
    "data80 = pd.read_csv('USdata80.csv', encoding='cp1252', lineterminator='\\n')\n",
    "#data90 = pd.read_csv('USdata90.csv', encoding='cp1252', lineterminator='\\n')\n",
    "#data95 = pd.read_csv('USdata95.csv', encoding='cp1252', lineterminator='\\n')"
   ]
  },
  {
   "cell_type": "code",
   "execution_count": 42,
   "id": "edb417c0",
   "metadata": {},
   "outputs": [
    {
     "name": "stdout",
     "output_type": "stream",
     "text": [
      "<class 'pandas.core.frame.DataFrame'>\n",
      "RangeIndex: 115391 entries, 0 to 115390\n",
      "Data columns (total 17 columns):\n",
      " #   Column             Non-Null Count   Dtype  \n",
      "---  ------             --------------   -----  \n",
      " 0   Unnamed: 0         115391 non-null  int64  \n",
      " 1   video_id           115391 non-null  object \n",
      " 2   title              115391 non-null  object \n",
      " 3   publishedAt        115391 non-null  object \n",
      " 4   channelId          115391 non-null  object \n",
      " 5   channelTitle       115391 non-null  object \n",
      " 6   categoryId         23027 non-null   float64\n",
      " 7   trending_date      115391 non-null  object \n",
      " 8   tags               115391 non-null  object \n",
      " 9   view_count         115391 non-null  int64  \n",
      " 10  likes              115391 non-null  int64  \n",
      " 11  dislikes           115391 non-null  int64  \n",
      " 12  comment_count      115391 non-null  int64  \n",
      " 13  thumbnail_link     115391 non-null  object \n",
      " 14  comments_disabled  115391 non-null  bool   \n",
      " 15  ratings_disabled   115391 non-null  bool   \n",
      " 16  description\r",
      "       115391 non-null  object \n",
      "dtypes: bool(2), float64(1), int64(5), object(9)\n",
      "memory usage: 13.4+ MB\n"
     ]
    }
   ],
   "source": [
    "data80.info()"
   ]
  },
  {
   "cell_type": "code",
   "execution_count": 43,
   "id": "22715e17",
   "metadata": {},
   "outputs": [
    {
     "data": {
      "text/html": [
       "<div>\n",
       "<style scoped>\n",
       "    .dataframe tbody tr th:only-of-type {\n",
       "        vertical-align: middle;\n",
       "    }\n",
       "\n",
       "    .dataframe tbody tr th {\n",
       "        vertical-align: top;\n",
       "    }\n",
       "\n",
       "    .dataframe thead th {\n",
       "        text-align: right;\n",
       "    }\n",
       "</style>\n",
       "<table border=\"1\" class=\"dataframe\">\n",
       "  <thead>\n",
       "    <tr style=\"text-align: right;\">\n",
       "      <th></th>\n",
       "      <th>Unnamed: 0</th>\n",
       "      <th>video_id</th>\n",
       "      <th>title</th>\n",
       "      <th>publishedAt</th>\n",
       "      <th>channelId</th>\n",
       "      <th>channelTitle</th>\n",
       "      <th>categoryId</th>\n",
       "      <th>trending_date</th>\n",
       "      <th>tags</th>\n",
       "      <th>view_count</th>\n",
       "      <th>likes</th>\n",
       "      <th>dislikes</th>\n",
       "      <th>comment_count</th>\n",
       "      <th>thumbnail_link</th>\n",
       "      <th>comments_disabled</th>\n",
       "      <th>ratings_disabled</th>\n",
       "      <th>description\\r</th>\n",
       "    </tr>\n",
       "  </thead>\n",
       "  <tbody>\n",
       "    <tr>\n",
       "      <th>0</th>\n",
       "      <td>0</td>\n",
       "      <td>3C66w5Z0ixs</td>\n",
       "      <td>I ASKED HER TO BE MY GIRLFRIEND...</td>\n",
       "      <td>2020-08-11T19:20:14Z</td>\n",
       "      <td>UCvtRTOMP2TqYqu51xNrqAzg</td>\n",
       "      <td>Brawadis</td>\n",
       "      <td>NaN</td>\n",
       "      <td>2020-08-12T00:00:00Z</td>\n",
       "      <td>brawadis|prank|basketball|skits|ghost|funny vi...</td>\n",
       "      <td>1514614</td>\n",
       "      <td>156908</td>\n",
       "      <td>5855</td>\n",
       "      <td>35313</td>\n",
       "      <td>https://i.ytimg.com/vi/3C66w5Z0ixs/default.jpg</td>\n",
       "      <td>False</td>\n",
       "      <td>False</td>\n",
       "      <td>SUBSCRIBE to BRAWADIS ? http://bit.ly/Subscrib...</td>\n",
       "    </tr>\n",
       "    <tr>\n",
       "      <th>1</th>\n",
       "      <td>1</td>\n",
       "      <td>M9Pmf9AB4Mo</td>\n",
       "      <td>Apex Legends | Stories from the Outlands – “Th...</td>\n",
       "      <td>2020-08-11T17:00:10Z</td>\n",
       "      <td>UC0ZV6M2THA81QT9hrVWJG3A</td>\n",
       "      <td>Apex Legends</td>\n",
       "      <td>20.0</td>\n",
       "      <td>2020-08-12T00:00:00Z</td>\n",
       "      <td>Apex Legends|Apex Legends characters|new Apex ...</td>\n",
       "      <td>2381688</td>\n",
       "      <td>146739</td>\n",
       "      <td>2794</td>\n",
       "      <td>16549</td>\n",
       "      <td>https://i.ytimg.com/vi/M9Pmf9AB4Mo/default.jpg</td>\n",
       "      <td>False</td>\n",
       "      <td>False</td>\n",
       "      <td>While running her own modding shop, Ramya Pare...</td>\n",
       "    </tr>\n",
       "    <tr>\n",
       "      <th>2</th>\n",
       "      <td>2</td>\n",
       "      <td>J78aPJ3VyNs</td>\n",
       "      <td>I left youtube for a month and THIS is what ha...</td>\n",
       "      <td>2020-08-11T16:34:06Z</td>\n",
       "      <td>UCYzPXprvl5Y-Sf0g4vX-m6g</td>\n",
       "      <td>jacksepticeye</td>\n",
       "      <td>NaN</td>\n",
       "      <td>2020-08-12T00:00:00Z</td>\n",
       "      <td>jacksepticeye|funny|funny meme|memes|jacksepti...</td>\n",
       "      <td>2038853</td>\n",
       "      <td>353787</td>\n",
       "      <td>2628</td>\n",
       "      <td>40221</td>\n",
       "      <td>https://i.ytimg.com/vi/J78aPJ3VyNs/default.jpg</td>\n",
       "      <td>False</td>\n",
       "      <td>False</td>\n",
       "      <td>I left youtube for a month and this is what ha...</td>\n",
       "    </tr>\n",
       "    <tr>\n",
       "      <th>3</th>\n",
       "      <td>3</td>\n",
       "      <td>kXLn3HkpjaA</td>\n",
       "      <td>XXL 2020 Freshman Class Revealed - Official An...</td>\n",
       "      <td>2020-08-11T16:38:55Z</td>\n",
       "      <td>UCbg_UMjlHJg_19SZckaKajg</td>\n",
       "      <td>XXL</td>\n",
       "      <td>NaN</td>\n",
       "      <td>2020-08-12T00:00:00Z</td>\n",
       "      <td>xxl freshman|xxl freshmen|2020 xxl freshman|20...</td>\n",
       "      <td>496771</td>\n",
       "      <td>23251</td>\n",
       "      <td>1856</td>\n",
       "      <td>7647</td>\n",
       "      <td>https://i.ytimg.com/vi/kXLn3HkpjaA/default.jpg</td>\n",
       "      <td>False</td>\n",
       "      <td>False</td>\n",
       "      <td>Subscribe to XXL ? http://bit.ly/subscribe-xxl...</td>\n",
       "    </tr>\n",
       "    <tr>\n",
       "      <th>4</th>\n",
       "      <td>4</td>\n",
       "      <td>VIUo6yapDbc</td>\n",
       "      <td>Ultimate DIY Home Movie Theater for The LaBran...</td>\n",
       "      <td>2020-08-11T15:10:05Z</td>\n",
       "      <td>UCDVPcEbVLQgLZX0Rt6jo34A</td>\n",
       "      <td>Mr. Kate</td>\n",
       "      <td>NaN</td>\n",
       "      <td>2020-08-12T00:00:00Z</td>\n",
       "      <td>The LaBrant Family|DIY|Interior Design|Makeove...</td>\n",
       "      <td>1123889</td>\n",
       "      <td>45802</td>\n",
       "      <td>964</td>\n",
       "      <td>2196</td>\n",
       "      <td>https://i.ytimg.com/vi/VIUo6yapDbc/default.jpg</td>\n",
       "      <td>False</td>\n",
       "      <td>False</td>\n",
       "      <td>Transforming The LaBrant Family's empty white ...</td>\n",
       "    </tr>\n",
       "  </tbody>\n",
       "</table>\n",
       "</div>"
      ],
      "text/plain": [
       "   Unnamed: 0     video_id                                              title  \\\n",
       "0           0  3C66w5Z0ixs                 I ASKED HER TO BE MY GIRLFRIEND...   \n",
       "1           1  M9Pmf9AB4Mo  Apex Legends | Stories from the Outlands – “Th...   \n",
       "2           2  J78aPJ3VyNs  I left youtube for a month and THIS is what ha...   \n",
       "3           3  kXLn3HkpjaA  XXL 2020 Freshman Class Revealed - Official An...   \n",
       "4           4  VIUo6yapDbc  Ultimate DIY Home Movie Theater for The LaBran...   \n",
       "\n",
       "            publishedAt                 channelId   channelTitle  categoryId  \\\n",
       "0  2020-08-11T19:20:14Z  UCvtRTOMP2TqYqu51xNrqAzg       Brawadis         NaN   \n",
       "1  2020-08-11T17:00:10Z  UC0ZV6M2THA81QT9hrVWJG3A   Apex Legends        20.0   \n",
       "2  2020-08-11T16:34:06Z  UCYzPXprvl5Y-Sf0g4vX-m6g  jacksepticeye         NaN   \n",
       "3  2020-08-11T16:38:55Z  UCbg_UMjlHJg_19SZckaKajg            XXL         NaN   \n",
       "4  2020-08-11T15:10:05Z  UCDVPcEbVLQgLZX0Rt6jo34A       Mr. Kate         NaN   \n",
       "\n",
       "          trending_date                                               tags  \\\n",
       "0  2020-08-12T00:00:00Z  brawadis|prank|basketball|skits|ghost|funny vi...   \n",
       "1  2020-08-12T00:00:00Z  Apex Legends|Apex Legends characters|new Apex ...   \n",
       "2  2020-08-12T00:00:00Z  jacksepticeye|funny|funny meme|memes|jacksepti...   \n",
       "3  2020-08-12T00:00:00Z  xxl freshman|xxl freshmen|2020 xxl freshman|20...   \n",
       "4  2020-08-12T00:00:00Z  The LaBrant Family|DIY|Interior Design|Makeove...   \n",
       "\n",
       "   view_count   likes  dislikes  comment_count  \\\n",
       "0     1514614  156908      5855          35313   \n",
       "1     2381688  146739      2794          16549   \n",
       "2     2038853  353787      2628          40221   \n",
       "3      496771   23251      1856           7647   \n",
       "4     1123889   45802       964           2196   \n",
       "\n",
       "                                   thumbnail_link  comments_disabled  \\\n",
       "0  https://i.ytimg.com/vi/3C66w5Z0ixs/default.jpg              False   \n",
       "1  https://i.ytimg.com/vi/M9Pmf9AB4Mo/default.jpg              False   \n",
       "2  https://i.ytimg.com/vi/J78aPJ3VyNs/default.jpg              False   \n",
       "3  https://i.ytimg.com/vi/kXLn3HkpjaA/default.jpg              False   \n",
       "4  https://i.ytimg.com/vi/VIUo6yapDbc/default.jpg              False   \n",
       "\n",
       "   ratings_disabled                                      description\\r  \n",
       "0             False  SUBSCRIBE to BRAWADIS ? http://bit.ly/Subscrib...  \n",
       "1             False  While running her own modding shop, Ramya Pare...  \n",
       "2             False  I left youtube for a month and this is what ha...  \n",
       "3             False  Subscribe to XXL ? http://bit.ly/subscribe-xxl...  \n",
       "4             False  Transforming The LaBrant Family's empty white ...  "
      ]
     },
     "execution_count": 43,
     "metadata": {},
     "output_type": "execute_result"
    }
   ],
   "source": [
    "data80.head()"
   ]
  },
  {
   "cell_type": "code",
   "execution_count": 44,
   "id": "7e723f9d",
   "metadata": {},
   "outputs": [
    {
     "data": {
      "text/html": [
       "<div>\n",
       "<style scoped>\n",
       "    .dataframe tbody tr th:only-of-type {\n",
       "        vertical-align: middle;\n",
       "    }\n",
       "\n",
       "    .dataframe tbody tr th {\n",
       "        vertical-align: top;\n",
       "    }\n",
       "\n",
       "    .dataframe thead th {\n",
       "        text-align: right;\n",
       "    }\n",
       "</style>\n",
       "<table border=\"1\" class=\"dataframe\">\n",
       "  <thead>\n",
       "    <tr style=\"text-align: right;\">\n",
       "      <th></th>\n",
       "      <th>Unnamed: 0</th>\n",
       "      <th>categoryId</th>\n",
       "      <th>view_count</th>\n",
       "      <th>likes</th>\n",
       "      <th>dislikes</th>\n",
       "      <th>comment_count</th>\n",
       "    </tr>\n",
       "  </thead>\n",
       "  <tbody>\n",
       "    <tr>\n",
       "      <th>count</th>\n",
       "      <td>115391.000000</td>\n",
       "      <td>23027.000000</td>\n",
       "      <td>1.153910e+05</td>\n",
       "      <td>1.153910e+05</td>\n",
       "      <td>115391.000000</td>\n",
       "      <td>1.153910e+05</td>\n",
       "    </tr>\n",
       "    <tr>\n",
       "      <th>mean</th>\n",
       "      <td>57695.000000</td>\n",
       "      <td>18.687671</td>\n",
       "      <td>2.714130e+06</td>\n",
       "      <td>1.476603e+05</td>\n",
       "      <td>2642.138858</td>\n",
       "      <td>1.244248e+04</td>\n",
       "    </tr>\n",
       "    <tr>\n",
       "      <th>std</th>\n",
       "      <td>33310.656793</td>\n",
       "      <td>6.892449</td>\n",
       "      <td>7.033984e+06</td>\n",
       "      <td>4.152476e+05</td>\n",
       "      <td>12118.721758</td>\n",
       "      <td>8.883184e+04</td>\n",
       "    </tr>\n",
       "    <tr>\n",
       "      <th>min</th>\n",
       "      <td>0.000000</td>\n",
       "      <td>1.000000</td>\n",
       "      <td>0.000000e+00</td>\n",
       "      <td>0.000000e+00</td>\n",
       "      <td>0.000000</td>\n",
       "      <td>0.000000e+00</td>\n",
       "    </tr>\n",
       "    <tr>\n",
       "      <th>25%</th>\n",
       "      <td>28847.500000</td>\n",
       "      <td>17.000000</td>\n",
       "      <td>5.252325e+05</td>\n",
       "      <td>2.110200e+04</td>\n",
       "      <td>212.000000</td>\n",
       "      <td>1.535000e+03</td>\n",
       "    </tr>\n",
       "    <tr>\n",
       "      <th>50%</th>\n",
       "      <td>57695.000000</td>\n",
       "      <td>20.000000</td>\n",
       "      <td>1.079336e+06</td>\n",
       "      <td>5.073500e+04</td>\n",
       "      <td>645.000000</td>\n",
       "      <td>3.525000e+03</td>\n",
       "    </tr>\n",
       "    <tr>\n",
       "      <th>75%</th>\n",
       "      <td>86542.500000</td>\n",
       "      <td>24.000000</td>\n",
       "      <td>2.422794e+06</td>\n",
       "      <td>1.286290e+05</td>\n",
       "      <td>1825.000000</td>\n",
       "      <td>8.488000e+03</td>\n",
       "    </tr>\n",
       "    <tr>\n",
       "      <th>max</th>\n",
       "      <td>115390.000000</td>\n",
       "      <td>29.000000</td>\n",
       "      <td>2.644074e+08</td>\n",
       "      <td>1.602153e+07</td>\n",
       "      <td>879354.000000</td>\n",
       "      <td>6.738537e+06</td>\n",
       "    </tr>\n",
       "  </tbody>\n",
       "</table>\n",
       "</div>"
      ],
      "text/plain": [
       "          Unnamed: 0    categoryId    view_count         likes       dislikes  \\\n",
       "count  115391.000000  23027.000000  1.153910e+05  1.153910e+05  115391.000000   \n",
       "mean    57695.000000     18.687671  2.714130e+06  1.476603e+05    2642.138858   \n",
       "std     33310.656793      6.892449  7.033984e+06  4.152476e+05   12118.721758   \n",
       "min         0.000000      1.000000  0.000000e+00  0.000000e+00       0.000000   \n",
       "25%     28847.500000     17.000000  5.252325e+05  2.110200e+04     212.000000   \n",
       "50%     57695.000000     20.000000  1.079336e+06  5.073500e+04     645.000000   \n",
       "75%     86542.500000     24.000000  2.422794e+06  1.286290e+05    1825.000000   \n",
       "max    115390.000000     29.000000  2.644074e+08  1.602153e+07  879354.000000   \n",
       "\n",
       "       comment_count  \n",
       "count   1.153910e+05  \n",
       "mean    1.244248e+04  \n",
       "std     8.883184e+04  \n",
       "min     0.000000e+00  \n",
       "25%     1.535000e+03  \n",
       "50%     3.525000e+03  \n",
       "75%     8.488000e+03  \n",
       "max     6.738537e+06  "
      ]
     },
     "execution_count": 44,
     "metadata": {},
     "output_type": "execute_result"
    }
   ],
   "source": [
    "data80.describe()"
   ]
  },
  {
   "cell_type": "markdown",
   "id": "e7deb1d4",
   "metadata": {},
   "source": [
    "<font size=\"5\"><b>Podsumowanie danych, wstępne statystyki</b></font>"
   ]
  },
  {
   "cell_type": "code",
   "execution_count": 45,
   "id": "64c29354",
   "metadata": {
    "scrolled": true
   },
   "outputs": [
    {
     "name": "stdout",
     "output_type": "stream",
     "text": [
      "\n",
      "Liczba brakujących wartości: 92364\n",
      "\n",
      "Liczba unikalnych wartości:\n",
      " Unnamed: 0           115391\n",
      "video_id              20831\n",
      "title                 21284\n",
      "publishedAt           20514\n",
      "channelId              5238\n",
      "channelTitle           5322\n",
      "categoryId               15\n",
      "trending_date           557\n",
      "tags                  15343\n",
      "view_count           112973\n",
      "likes                 84931\n",
      "dislikes              13179\n",
      "comment_count         27202\n",
      "thumbnail_link        20831\n",
      "comments_disabled         2\n",
      "ratings_disabled          2\n",
      "description\\r         21309\n",
      "dtype: int64\n"
     ]
    }
   ],
   "source": [
    "print (\"\\nLiczba brakujących wartości:\", data80.isnull().sum().values.sum())\n",
    "print (\"\\nLiczba unikalnych wartości:\\n\", data80.nunique())"
   ]
  },
  {
   "cell_type": "code",
   "execution_count": 46,
   "id": "3da84c20",
   "metadata": {},
   "outputs": [
    {
     "name": "stdout",
     "output_type": "stream",
     "text": [
      "Ile razy dany kanał znalazł się w Trending\n"
     ]
    },
    {
     "data": {
      "text/plain": [
       "UCDVYQ4Zhbm3S2dlz7P1GBDg    809\n",
       "UCWJ2lWNubArHWmf3FIHbfcQ    679\n",
       "UCpB959t8iPrxQWj7G6n0ctQ    549\n",
       "UCIPPMRA040LQr5QPyJEbmXA    415\n",
       "UCke6I9N4KfC968-yRcd5YRg    410\n",
       "                           ... \n",
       "UCFLwN7vRu8M057qJF8TsBaA      1\n",
       "UCclt4BVZbsNCChePuT43QdA      1\n",
       "UCMkfcY0uNTa7hccthSooPnQ      1\n",
       "UC-HWZs7YOICL0h--kGSRuTg      1\n",
       "UCsgQqAJC8z09sVFPs8-KKrQ      1\n",
       "Name: channelId, Length: 5238, dtype: int64"
      ]
     },
     "execution_count": 46,
     "metadata": {},
     "output_type": "execute_result"
    }
   ],
   "source": [
    "print(\"Ile razy dany kanał znalazł się w Trending\")\n",
    "data80['channelId'].value_counts()"
   ]
  },
  {
   "cell_type": "code",
   "execution_count": 47,
   "id": "06952b68",
   "metadata": {},
   "outputs": [
    {
     "name": "stdout",
     "output_type": "stream",
     "text": [
      "Ile razy dany film znalazł się w Trending\n"
     ]
    },
    {
     "data": {
      "text/plain": [
       "hdmx71UjBXs    36\n",
       "aONT7atzqfw    35\n",
       "wY6UyatwVTA    34\n",
       "mcUpeaSX8BE    34\n",
       "vrRfBmMWpLY    33\n",
       "               ..\n",
       "uKRXOaBQMzU     1\n",
       "ZdKuso-s7qs     1\n",
       "dDvS1_EXvnc     1\n",
       "qGfiAA9Dlio     1\n",
       "h2UN0EtuY1g     1\n",
       "Name: video_id, Length: 20831, dtype: int64"
      ]
     },
     "execution_count": 47,
     "metadata": {},
     "output_type": "execute_result"
    }
   ],
   "source": [
    "print(\"Ile razy dany film znalazł się w Trending\")\n",
    "data80['video_id'].value_counts()"
   ]
  },
  {
   "cell_type": "code",
   "execution_count": 48,
   "id": "585d735a",
   "metadata": {},
   "outputs": [
    {
     "name": "stdout",
     "output_type": "stream",
     "text": [
      "Brakujące wartości w poszczególnych cechach\n"
     ]
    },
    {
     "data": {
      "text/plain": [
       "Unnamed: 0               0\n",
       "video_id                 0\n",
       "title                    0\n",
       "publishedAt              0\n",
       "channelId                0\n",
       "channelTitle             0\n",
       "categoryId           92364\n",
       "trending_date            0\n",
       "tags                     0\n",
       "view_count               0\n",
       "likes                    0\n",
       "dislikes                 0\n",
       "comment_count            0\n",
       "thumbnail_link           0\n",
       "comments_disabled        0\n",
       "ratings_disabled         0\n",
       "description\\r            0\n",
       "dtype: int64"
      ]
     },
     "execution_count": 48,
     "metadata": {},
     "output_type": "execute_result"
    }
   ],
   "source": [
    "print(\"Brakujące wartości w poszczególnych cechach\")\n",
    "data80.isna().sum()"
   ]
  },
  {
   "cell_type": "code",
   "execution_count": 49,
   "id": "e191c13c",
   "metadata": {},
   "outputs": [
    {
     "name": "stdout",
     "output_type": "stream",
     "text": [
      "Liczba filmów w danej kategorii\n"
     ]
    },
    {
     "data": {
      "text/plain": [
       "24.0    4553\n",
       "10.0    4116\n",
       "20.0    4030\n",
       "17.0    2527\n",
       "22.0    2063\n",
       "23.0    1305\n",
       "1.0     1016\n",
       "25.0     894\n",
       "26.0     760\n",
       "28.0     699\n",
       "27.0     534\n",
       "2.0      359\n",
       "19.0      94\n",
       "15.0      66\n",
       "29.0      11\n",
       "Name: categoryId, dtype: int64"
      ]
     },
     "execution_count": 49,
     "metadata": {},
     "output_type": "execute_result"
    }
   ],
   "source": [
    "print(\"Liczba filmów w danej kategorii\")\n",
    "data80['categoryId'].value_counts()"
   ]
  },
  {
   "cell_type": "code",
   "execution_count": 50,
   "id": "bff3069a",
   "metadata": {},
   "outputs": [
    {
     "data": {
      "text/plain": [
       "<AxesSubplot:title={'center':'Regresja liniowa między oglądalnością a liczbą polubień'}, xlabel='view_count', ylabel='likes'>"
      ]
     },
     "execution_count": 50,
     "metadata": {},
     "output_type": "execute_result"
    },
    {
     "data": {
      "image/png": "[encoded data removed]",
      "text/plain": [
       "<Figure size 720x360 with 1 Axes>"
      ]
     },
     "metadata": {},
     "output_type": "display_data"
    }
   ],
   "source": [
    "plt.figure(figsize=(10,5))\n",
    "plt.title('Regresja liniowa między oglądalnością a liczbą polubień')\n",
    "sns.regplot(data=data80, x='view_count', y='likes')"
   ]
  },
  {
   "cell_type": "code",
   "execution_count": 51,
   "id": "c7316426",
   "metadata": {},
   "outputs": [
    {
     "name": "stdout",
     "output_type": "stream",
     "text": [
      "Korelacja pomiędzy atrybutami liczbowymi\n"
     ]
    },
    {
     "data": {
      "text/html": [
       "<div>\n",
       "<style scoped>\n",
       "    .dataframe tbody tr th:only-of-type {\n",
       "        vertical-align: middle;\n",
       "    }\n",
       "\n",
       "    .dataframe tbody tr th {\n",
       "        vertical-align: top;\n",
       "    }\n",
       "\n",
       "    .dataframe thead th {\n",
       "        text-align: right;\n",
       "    }\n",
       "</style>\n",
       "<table border=\"1\" class=\"dataframe\">\n",
       "  <thead>\n",
       "    <tr style=\"text-align: right;\">\n",
       "      <th></th>\n",
       "      <th>likes</th>\n",
       "      <th>dislikes</th>\n",
       "      <th>comment_count</th>\n",
       "      <th>view_count</th>\n",
       "    </tr>\n",
       "  </thead>\n",
       "  <tbody>\n",
       "    <tr>\n",
       "      <th>likes</th>\n",
       "      <td>1.000000</td>\n",
       "      <td>0.636525</td>\n",
       "      <td>0.693102</td>\n",
       "      <td>0.849516</td>\n",
       "    </tr>\n",
       "    <tr>\n",
       "      <th>dislikes</th>\n",
       "      <td>0.636525</td>\n",
       "      <td>1.000000</td>\n",
       "      <td>0.521355</td>\n",
       "      <td>0.671340</td>\n",
       "    </tr>\n",
       "    <tr>\n",
       "      <th>comment_count</th>\n",
       "      <td>0.693102</td>\n",
       "      <td>0.521355</td>\n",
       "      <td>1.000000</td>\n",
       "      <td>0.520759</td>\n",
       "    </tr>\n",
       "    <tr>\n",
       "      <th>view_count</th>\n",
       "      <td>0.849516</td>\n",
       "      <td>0.671340</td>\n",
       "      <td>0.520759</td>\n",
       "      <td>1.000000</td>\n",
       "    </tr>\n",
       "  </tbody>\n",
       "</table>\n",
       "</div>"
      ],
      "text/plain": [
       "                  likes  dislikes  comment_count  view_count\n",
       "likes          1.000000  0.636525       0.693102    0.849516\n",
       "dislikes       0.636525  1.000000       0.521355    0.671340\n",
       "comment_count  0.693102  0.521355       1.000000    0.520759\n",
       "view_count     0.849516  0.671340       0.520759    1.000000"
      ]
     },
     "execution_count": 51,
     "metadata": {},
     "output_type": "execute_result"
    }
   ],
   "source": [
    "print(\"Korelacja pomiędzy atrybutami liczbowymi\")\n",
    "corr= data80[['likes', 'dislikes', 'comment_count', 'view_count']]\n",
    "corr.corr()"
   ]
  },
  {
   "cell_type": "code",
   "execution_count": 52,
   "id": "fdb88b0d",
   "metadata": {},
   "outputs": [
    {
     "data": {
      "text/plain": [
       "<AxesSubplot:>"
      ]
     },
     "execution_count": 52,
     "metadata": {},
     "output_type": "execute_result"
    },
    {
     "data": {
      "image/png": "[encoded data removed]",
      "text/plain": [
       "<Figure size 432x288 with 2 Axes>"
      ]
     },
     "metadata": {},
     "output_type": "display_data"
    }
   ],
   "source": [
    "sns.heatmap(corr.corr(), annot= True)"
   ]
  },
  {
   "cell_type": "code",
   "execution_count": 53,
   "id": "c4b84e3e",
   "metadata": {},
   "outputs": [
    {
     "data": {
      "text/plain": [
       "<AxesSubplot:title={'center':'Oglądalność względem kategorii'}, xlabel='categoryId', ylabel='view_count'>"
      ]
     },
     "execution_count": 53,
     "metadata": {},
     "output_type": "execute_result"
    },
    {
     "data": {
      "image/png": "[encoded data removed]",
      "text/plain": [
       "<Figure size 1080x504 with 1 Axes>"
      ]
     },
     "metadata": {},
     "output_type": "display_data"
    }
   ],
   "source": [
    "plt.figure(figsize=(15,7))\n",
    "plt.title(\"Oglądalność względem kategorii\")\n",
    "sns.barplot(x=\"categoryId\", y=\"view_count\", data=data80)"
   ]
  },
  {
   "cell_type": "code",
   "execution_count": 54,
   "id": "4d863e69",
   "metadata": {},
   "outputs": [
    {
     "data": {
      "text/plain": [
       "<AxesSubplot:title={'center':'Ilość komentarzy względem kategorii'}, xlabel='categoryId', ylabel='comment_count'>"
      ]
     },
     "execution_count": 54,
     "metadata": {},
     "output_type": "execute_result"
    },
    {
     "data": {
      "image/png": "[encoded data removed]",
      "text/plain": [
       "<Figure size 1080x504 with 1 Axes>"
      ]
     },
     "metadata": {},
     "output_type": "display_data"
    }
   ],
   "source": [
    "plt.figure(figsize=(15,7))\n",
    "plt.title(\"Ilość komentarzy względem kategorii\")\n",
    "sns.barplot(x=\"categoryId\", y=\"comment_count\", data=data80)"
   ]
  },
  {
   "cell_type": "code",
   "execution_count": 55,
   "id": "e51db5f3",
   "metadata": {
    "scrolled": true
   },
   "outputs": [
    {
     "data": {
      "text/plain": [
       "<AxesSubplot:title={'center':'Komentarze włączone vs wyłączone'}, xlabel='comments_disabled', ylabel='count'>"
      ]
     },
     "execution_count": 55,
     "metadata": {},
     "output_type": "execute_result"
    },
    {
     "data": {
      "image/png": "[encoded data removed]",
      "text/plain": [
       "<Figure size 432x288 with 1 Axes>"
      ]
     },
     "metadata": {},
     "output_type": "display_data"
    }
   ],
   "source": [
    "plt.title(\"Komentarze włączone vs wyłączone\")\n",
    "sns.countplot(x=\"comments_disabled\", data=data80)"
   ]
  },
  {
   "cell_type": "code",
   "execution_count": 56,
   "id": "0eb06d6d",
   "metadata": {},
   "outputs": [
    {
     "data": {
      "text/plain": [
       "<AxesSubplot:title={'center':'Ocenianie włączone vs wyłączone'}, xlabel='ratings_disabled', ylabel='count'>"
      ]
     },
     "execution_count": 56,
     "metadata": {},
     "output_type": "execute_result"
    },
    {
     "data": {
      "image/png": "[encoded data removed]",
      "text/plain": [
       "<Figure size 432x288 with 1 Axes>"
      ]
     },
     "metadata": {},
     "output_type": "display_data"
    }
   ],
   "source": [
    "plt.title(\"Ocenianie włączone vs wyłączone\")\n",
    "sns.countplot(x=\"ratings_disabled\", data=data80)"
   ]
  },
  {
   "cell_type": "markdown",
   "id": "42d845d8",
   "metadata": {},
   "source": [
    "<font size=\"5\"><b>Zmiana reprezentacji danych</b></font>"
   ]
  },
  {
   "cell_type": "code",
   "execution_count": 57,
   "id": "0d7139e9",
   "metadata": {},
   "outputs": [],
   "source": [
    "df = data80[[\"video_id\", \"title\", \"publishedAt\", \"channelTitle\", \"categoryId\", \"tags\", \"description\\r\"]]"
   ]
  },
  {
   "cell_type": "code",
   "execution_count": 58,
   "id": "070c5076",
   "metadata": {},
   "outputs": [
    {
     "data": {
      "text/html": [
       "<div>\n",
       "<style scoped>\n",
       "    .dataframe tbody tr th:only-of-type {\n",
       "        vertical-align: middle;\n",
       "    }\n",
       "\n",
       "    .dataframe tbody tr th {\n",
       "        vertical-align: top;\n",
       "    }\n",
       "\n",
       "    .dataframe thead th {\n",
       "        text-align: right;\n",
       "    }\n",
       "</style>\n",
       "<table border=\"1\" class=\"dataframe\">\n",
       "  <thead>\n",
       "    <tr style=\"text-align: right;\">\n",
       "      <th></th>\n",
       "      <th>video_id</th>\n",
       "      <th>title</th>\n",
       "      <th>publishedAt</th>\n",
       "      <th>channelTitle</th>\n",
       "      <th>categoryId</th>\n",
       "      <th>tags</th>\n",
       "      <th>description</th>\n",
       "    </tr>\n",
       "  </thead>\n",
       "  <tbody>\n",
       "    <tr>\n",
       "      <th>0</th>\n",
       "      <td>3C66w5Z0ixs</td>\n",
       "      <td>I ASKED HER TO BE MY GIRLFRIEND...</td>\n",
       "      <td>2020-08-11T19:20:14Z</td>\n",
       "      <td>Brawadis</td>\n",
       "      <td>NaN</td>\n",
       "      <td>brawadis|prank|basketball|skits|ghost|funny vi...</td>\n",
       "      <td>SUBSCRIBE to BRAWADIS ? http://bit.ly/Subscrib...</td>\n",
       "    </tr>\n",
       "    <tr>\n",
       "      <th>1</th>\n",
       "      <td>M9Pmf9AB4Mo</td>\n",
       "      <td>Apex Legends | Stories from the Outlands – “Th...</td>\n",
       "      <td>2020-08-11T17:00:10Z</td>\n",
       "      <td>Apex Legends</td>\n",
       "      <td>20.0</td>\n",
       "      <td>Apex Legends|Apex Legends characters|new Apex ...</td>\n",
       "      <td>While running her own modding shop, Ramya Pare...</td>\n",
       "    </tr>\n",
       "    <tr>\n",
       "      <th>2</th>\n",
       "      <td>J78aPJ3VyNs</td>\n",
       "      <td>I left youtube for a month and THIS is what ha...</td>\n",
       "      <td>2020-08-11T16:34:06Z</td>\n",
       "      <td>jacksepticeye</td>\n",
       "      <td>NaN</td>\n",
       "      <td>jacksepticeye|funny|funny meme|memes|jacksepti...</td>\n",
       "      <td>I left youtube for a month and this is what ha...</td>\n",
       "    </tr>\n",
       "    <tr>\n",
       "      <th>3</th>\n",
       "      <td>kXLn3HkpjaA</td>\n",
       "      <td>XXL 2020 Freshman Class Revealed - Official An...</td>\n",
       "      <td>2020-08-11T16:38:55Z</td>\n",
       "      <td>XXL</td>\n",
       "      <td>NaN</td>\n",
       "      <td>xxl freshman|xxl freshmen|2020 xxl freshman|20...</td>\n",
       "      <td>Subscribe to XXL ? http://bit.ly/subscribe-xxl...</td>\n",
       "    </tr>\n",
       "    <tr>\n",
       "      <th>4</th>\n",
       "      <td>VIUo6yapDbc</td>\n",
       "      <td>Ultimate DIY Home Movie Theater for The LaBran...</td>\n",
       "      <td>2020-08-11T15:10:05Z</td>\n",
       "      <td>Mr. Kate</td>\n",
       "      <td>NaN</td>\n",
       "      <td>The LaBrant Family|DIY|Interior Design|Makeove...</td>\n",
       "      <td>Transforming The LaBrant Family's empty white ...</td>\n",
       "    </tr>\n",
       "    <tr>\n",
       "      <th>...</th>\n",
       "      <td>...</td>\n",
       "      <td>...</td>\n",
       "      <td>...</td>\n",
       "      <td>...</td>\n",
       "      <td>...</td>\n",
       "      <td>...</td>\n",
       "      <td>...</td>\n",
       "    </tr>\n",
       "    <tr>\n",
       "      <th>115386</th>\n",
       "      <td>6WUxgmMDts4</td>\n",
       "      <td>Blowing up Capacitors at 187,000FPS</td>\n",
       "      <td>2022-03-01T12:20:37Z</td>\n",
       "      <td>The Slow Mo Guys</td>\n",
       "      <td>NaN</td>\n",
       "      <td>slomo|slow|mo|super|motion|Slow Motion|1000|10...</td>\n",
       "      <td>Gav and Dan overload some capacitors and film ...</td>\n",
       "    </tr>\n",
       "    <tr>\n",
       "      <th>115387</th>\n",
       "      <td>6-aGt23ytyI</td>\n",
       "      <td>Most Extreme Sports!</td>\n",
       "      <td>2022-02-28T21:00:02Z</td>\n",
       "      <td>Beast Reacts</td>\n",
       "      <td>NaN</td>\n",
       "      <td>life hacks|crafts|slime|do it yourself|diy|lif...</td>\n",
       "      <td>Like normal sports but EXTREME!CHECK OUT THESE...</td>\n",
       "    </tr>\n",
       "    <tr>\n",
       "      <th>115388</th>\n",
       "      <td>vPgrkl7lEjU</td>\n",
       "      <td>The Batman - Movie Review</td>\n",
       "      <td>2022-02-28T17:00:39Z</td>\n",
       "      <td>Chris Stuckmann</td>\n",
       "      <td>NaN</td>\n",
       "      <td>The Batman|Reviews|Movie Review|Chris Stuckman...</td>\n",
       "      <td>The Shelby Oaks Kickstarter is LIVE: https://w...</td>\n",
       "    </tr>\n",
       "    <tr>\n",
       "      <th>115389</th>\n",
       "      <td>6Svr8l1DwTc</td>\n",
       "      <td>which enderman will survive?</td>\n",
       "      <td>2022-03-01T17:00:04Z</td>\n",
       "      <td>Spider</td>\n",
       "      <td>NaN</td>\n",
       "      <td>[None]</td>\n",
       "      <td>#minecraft #meme #memes\\r</td>\n",
       "    </tr>\n",
       "    <tr>\n",
       "      <th>115390</th>\n",
       "      <td>hBF4TxpTW3Y</td>\n",
       "      <td>OUR GENDER REVEAL!! | Yoatzi</td>\n",
       "      <td>2022-02-28T22:00:26Z</td>\n",
       "      <td>Yoatzi</td>\n",
       "      <td>NaN</td>\n",
       "      <td>[None]</td>\n",
       "      <td>Contact info: YoatziTeam@unitedtalent.com\\r</td>\n",
       "    </tr>\n",
       "  </tbody>\n",
       "</table>\n",
       "<p>115391 rows × 7 columns</p>\n",
       "</div>"
      ],
      "text/plain": [
       "           video_id                                              title  \\\n",
       "0       3C66w5Z0ixs                 I ASKED HER TO BE MY GIRLFRIEND...   \n",
       "1       M9Pmf9AB4Mo  Apex Legends | Stories from the Outlands – “Th...   \n",
       "2       J78aPJ3VyNs  I left youtube for a month and THIS is what ha...   \n",
       "3       kXLn3HkpjaA  XXL 2020 Freshman Class Revealed - Official An...   \n",
       "4       VIUo6yapDbc  Ultimate DIY Home Movie Theater for The LaBran...   \n",
       "...             ...                                                ...   \n",
       "115386  6WUxgmMDts4                Blowing up Capacitors at 187,000FPS   \n",
       "115387  6-aGt23ytyI                               Most Extreme Sports!   \n",
       "115388  vPgrkl7lEjU                          The Batman - Movie Review   \n",
       "115389  6Svr8l1DwTc                       which enderman will survive?   \n",
       "115390  hBF4TxpTW3Y                       OUR GENDER REVEAL!! | Yoatzi   \n",
       "\n",
       "                 publishedAt      channelTitle  categoryId  \\\n",
       "0       2020-08-11T19:20:14Z          Brawadis         NaN   \n",
       "1       2020-08-11T17:00:10Z      Apex Legends        20.0   \n",
       "2       2020-08-11T16:34:06Z     jacksepticeye         NaN   \n",
       "3       2020-08-11T16:38:55Z               XXL         NaN   \n",
       "4       2020-08-11T15:10:05Z          Mr. Kate         NaN   \n",
       "...                      ...               ...         ...   \n",
       "115386  2022-03-01T12:20:37Z  The Slow Mo Guys         NaN   \n",
       "115387  2022-02-28T21:00:02Z      Beast Reacts         NaN   \n",
       "115388  2022-02-28T17:00:39Z   Chris Stuckmann         NaN   \n",
       "115389  2022-03-01T17:00:04Z            Spider         NaN   \n",
       "115390  2022-02-28T22:00:26Z            Yoatzi         NaN   \n",
       "\n",
       "                                                     tags  \\\n",
       "0       brawadis|prank|basketball|skits|ghost|funny vi...   \n",
       "1       Apex Legends|Apex Legends characters|new Apex ...   \n",
       "2       jacksepticeye|funny|funny meme|memes|jacksepti...   \n",
       "3       xxl freshman|xxl freshmen|2020 xxl freshman|20...   \n",
       "4       The LaBrant Family|DIY|Interior Design|Makeove...   \n",
       "...                                                   ...   \n",
       "115386  slomo|slow|mo|super|motion|Slow Motion|1000|10...   \n",
       "115387  life hacks|crafts|slime|do it yourself|diy|lif...   \n",
       "115388  The Batman|Reviews|Movie Review|Chris Stuckman...   \n",
       "115389                                             [None]   \n",
       "115390                                             [None]   \n",
       "\n",
       "                                              description  \n",
       "0       SUBSCRIBE to BRAWADIS ? http://bit.ly/Subscrib...  \n",
       "1       While running her own modding shop, Ramya Pare...  \n",
       "2       I left youtube for a month and this is what ha...  \n",
       "3       Subscribe to XXL ? http://bit.ly/subscribe-xxl...  \n",
       "4       Transforming The LaBrant Family's empty white ...  \n",
       "...                                                   ...  \n",
       "115386  Gav and Dan overload some capacitors and film ...  \n",
       "115387  Like normal sports but EXTREME!CHECK OUT THESE...  \n",
       "115388  The Shelby Oaks Kickstarter is LIVE: https://w...  \n",
       "115389                          #minecraft #meme #memes\\r  \n",
       "115390        Contact info: YoatziTeam@unitedtalent.com\\r  \n",
       "\n",
       "[115391 rows x 7 columns]"
      ]
     },
     "execution_count": 58,
     "metadata": {},
     "output_type": "execute_result"
    }
   ],
   "source": [
    "df.rename(columns={\"description\\r\":\"description\"}, inplace=True)\n",
    "df"
   ]
  },
  {
   "cell_type": "code",
   "execution_count": 59,
   "id": "1e847644",
   "metadata": {},
   "outputs": [],
   "source": [
    "df['publishedAt'] = pd.to_datetime(df['publishedAt'])"
   ]
  },
  {
   "cell_type": "code",
   "execution_count": 60,
   "id": "d770a5fb",
   "metadata": {},
   "outputs": [],
   "source": [
    "#Godzina publikacji \n",
    "df[\"publishedAt_hour\"] = df['publishedAt'].dt.hour"
   ]
  },
  {
   "cell_type": "code",
   "execution_count": 61,
   "id": "54564d7c",
   "metadata": {},
   "outputs": [
    {
     "data": {
      "text/plain": [
       "<AxesSubplot:title={'center':'Godzina dodania filmów'}, xlabel='publishedAt_hour', ylabel='count'>"
      ]
     },
     "execution_count": 61,
     "metadata": {},
     "output_type": "execute_result"
    },
    {
     "data": {
      "image/png": "[encoded data removed]",
      "text/plain": [
       "<Figure size 1080x504 with 1 Axes>"
      ]
     },
     "metadata": {},
     "output_type": "display_data"
    }
   ],
   "source": [
    "plt.figure(figsize=(15,7))\n",
    "plt.title(\"Godzina dodania filmów\")\n",
    "sns.countplot(df[\"publishedAt_hour\"])"
   ]
  },
  {
   "cell_type": "code",
   "execution_count": 62,
   "id": "5b54a0de",
   "metadata": {},
   "outputs": [
    {
     "data": {
      "text/plain": [
       "0         34\n",
       "1         60\n",
       "2         53\n",
       "3         56\n",
       "4         55\n",
       "          ..\n",
       "115386    35\n",
       "115387    20\n",
       "115388    25\n",
       "115389    28\n",
       "115390    28\n",
       "Name: title_len, Length: 115391, dtype: int64"
      ]
     },
     "execution_count": 62,
     "metadata": {},
     "output_type": "execute_result"
    }
   ],
   "source": [
    "#Długość tytułu\n",
    "df['title_len'] = df['title'].apply(lambda x: len(x))\n",
    "df['title_len']"
   ]
  },
  {
   "cell_type": "code",
   "execution_count": 63,
   "id": "bff50310",
   "metadata": {},
   "outputs": [
    {
     "data": {
      "text/plain": [
       "<AxesSubplot:title={'center':'Długość tytułu'}, xlabel='title_len', ylabel='Count'>"
      ]
     },
     "execution_count": 63,
     "metadata": {},
     "output_type": "execute_result"
    },
    {
     "data": {
      "image/png": "[encoded data removed]",
      "text/plain": [
       "<Figure size 432x288 with 1 Axes>"
      ]
     },
     "metadata": {},
     "output_type": "display_data"
    }
   ],
   "source": [
    "plt.title(\"Długość tytułu\")\n",
    "sns.histplot(data=df, x='title_len', bins=10)"
   ]
  },
  {
   "cell_type": "code",
   "execution_count": 64,
   "id": "1a1f45eb",
   "metadata": {},
   "outputs": [
    {
     "data": {
      "text/plain": [
       "<AxesSubplot:title={'center':'Czy tytuł został napisany wielkimi literami'}, xlabel='title_capitalised', ylabel='count'>"
      ]
     },
     "execution_count": 64,
     "metadata": {},
     "output_type": "execute_result"
    },
    {
     "data": {
      "image/png": "[encoded data removed]",
      "text/plain": [
       "<Figure size 432x288 with 1 Axes>"
      ]
     },
     "metadata": {},
     "output_type": "display_data"
    }
   ],
   "source": [
    "#czy tytuł jest napisany wielkimi literami\n",
    "df['title_capitalised'] = df['title'].apply(lambda x: x.isupper())\n",
    "plt.title(\"Czy tytuł został napisany wielkimi literami\")\n",
    "sns.countplot(x=\"title_capitalised\", data=df)"
   ]
  },
  {
   "cell_type": "code",
   "execution_count": 65,
   "id": "98ef44df",
   "metadata": {},
   "outputs": [
    {
     "data": {
      "text/plain": [
       "0         False\n",
       "1         False\n",
       "2         False\n",
       "3         False\n",
       "4         False\n",
       "          ...  \n",
       "115386    False\n",
       "115387    False\n",
       "115388    False\n",
       "115389    False\n",
       "115390    False\n",
       "Name: title, Length: 115391, dtype: bool"
      ]
     },
     "execution_count": 65,
     "metadata": {},
     "output_type": "execute_result"
    }
   ],
   "source": [
    "#Czy tytuł posiada emoji -> brak, nie dodalem jako cechy\n",
    "def text_has_emoji(text):   \n",
    "    for character in text:\n",
    "        if character in emoji.UNICODE_EMOJI:\n",
    "            return character\n",
    "    return False\n",
    "            \n",
    "df['title'].apply(text_has_emoji)#.nunique()"
   ]
  },
  {
   "cell_type": "code",
   "execution_count": 66,
   "id": "52b9a857",
   "metadata": {},
   "outputs": [
    {
     "data": {
      "text/plain": [
       "<AxesSubplot:title={'center':'Czy tytuł posiada znaki interpunkcyjne?'}, xlabel='title_punctuation', ylabel='count'>"
      ]
     },
     "execution_count": 66,
     "metadata": {},
     "output_type": "execute_result"
    },
    {
     "data": {
      "image/png": "[encoded data removed]",
      "text/plain": [
       "<Figure size 432x288 with 1 Axes>"
      ]
     },
     "metadata": {},
     "output_type": "display_data"
    }
   ],
   "source": [
    "#czy tytuł posiada znaki interpunkcyjne\n",
    "puncts = string.punctuation # ['?', '!']\n",
    "def text_has_punctuation(text):\n",
    "    for character in text:\n",
    "        if character in puncts:\n",
    "            return True\n",
    "    return False\n",
    "\n",
    "df['title_punctuation'] = df['title'].apply(text_has_punctuation)\n",
    "plt.title(\"Czy tytuł posiada znaki interpunkcyjne?\")\n",
    "sns.countplot(df['title_punctuation'])"
   ]
  },
  {
   "cell_type": "code",
   "execution_count": 67,
   "id": "8959252e",
   "metadata": {},
   "outputs": [
    {
     "data": {
      "text/plain": [
       "False    115391\n",
       "Name: description, dtype: int64"
      ]
     },
     "execution_count": 67,
     "metadata": {},
     "output_type": "execute_result"
    }
   ],
   "source": [
    "#czy opis posiada emoji - też tylko False// dziwne\n",
    "            \n",
    "df['description'].apply(text_has_emoji).value_counts()"
   ]
  },
  {
   "cell_type": "code",
   "execution_count": 68,
   "id": "0361c501",
   "metadata": {},
   "outputs": [
    {
     "data": {
      "text/plain": [
       "<AxesSubplot:title={'center':'Czy opis posiada zdanie napisane wielkimi literami'}, xlabel='description_capitalised', ylabel='count'>"
      ]
     },
     "execution_count": 68,
     "metadata": {},
     "output_type": "execute_result"
    },
    {
     "data": {
      "image/png": "[encoded data removed]",
      "text/plain": [
       "<Figure size 432x288 with 1 Axes>"
      ]
     },
     "metadata": {},
     "output_type": "display_data"
    }
   ],
   "source": [
    "#czy opis posiada zdanie napisane wielkimi literami\n",
    "def check_capitalise(description):\n",
    "    sentences = description.split(\".\")\n",
    "    for sentence in sentences:\n",
    "        if sentence.isupper():\n",
    "            return True\n",
    "    return False\n",
    "\n",
    "df['description_capitalised'] = df['description'].apply(check_capitalise)\n",
    "\n",
    "\n",
    "plt.title(\"Czy opis posiada zdanie napisane wielkimi literami\")\n",
    "sns.countplot(x=\"description_capitalised\", data=df)"
   ]
  },
  {
   "cell_type": "code",
   "execution_count": 69,
   "id": "c3d66941",
   "metadata": {},
   "outputs": [
    {
     "data": {
      "text/plain": [
       "<AxesSubplot:title={'center':'Czy opis posiada znaki interpunkcyjne?'}, xlabel='description_punctuation', ylabel='count'>"
      ]
     },
     "execution_count": 69,
     "metadata": {},
     "output_type": "execute_result"
    },
    {
     "data": {
      "image/png": "[encoded data removed]",
      "text/plain": [
       "<Figure size 432x288 with 1 Axes>"
      ]
     },
     "metadata": {},
     "output_type": "display_data"
    }
   ],
   "source": [
    "#czy opis posiada znaki interpunkcyjne\n",
    "puncts = string.punctuation # ['?', '!']\n",
    "def text_has_punctuation(text):\n",
    "    for character in text:\n",
    "        if character in puncts:\n",
    "            return True\n",
    "    return False\n",
    "\n",
    "df['description_punctuation'] = df['description'].apply(text_has_punctuation)\n",
    "plt.title(\"Czy opis posiada znaki interpunkcyjne?\")\n",
    "sns.countplot(df['description_punctuation'])"
   ]
  },
  {
   "cell_type": "code",
   "execution_count": 70,
   "id": "8f9a734a",
   "metadata": {},
   "outputs": [
    {
     "data": {
      "text/plain": [
       "<AxesSubplot:title={'center':'Długość opisu'}, xlabel='description_len', ylabel='Count'>"
      ]
     },
     "execution_count": 70,
     "metadata": {},
     "output_type": "execute_result"
    },
    {
     "data": {
      "image/png": "[encoded data removed]",
      "text/plain": [
       "<Figure size 432x288 with 1 Axes>"
      ]
     },
     "metadata": {},
     "output_type": "display_data"
    }
   ],
   "source": [
    "#Długość opisu \n",
    "df['description_len'] = df['description'].apply(lambda x: len(x))\n",
    "plt.title(\"Długość opisu\")\n",
    "sns.histplot(data=df, x='description_len', bins=10)"
   ]
  },
  {
   "cell_type": "code",
   "execution_count": 71,
   "id": "717e572d",
   "metadata": {},
   "outputs": [],
   "source": [
    "#Najczesciej wystepujace slowa\n",
    "merged_tags = ''.join(df['tags'])\n",
    "tags = re.sub('[^a-zA-Z]', ' ', merged_tags) #usuń znaki specjalne\n",
    "tags = re.compile(r\"\\s+\").sub(\" \", tags).strip() #usuń nadmiarowe spacje\n",
    "tags_tokens = word_tokenize(tags)\n",
    "tags_tokens = [t.lower() for t in tags_tokens]\n",
    "\n",
    "stop_words = set(stopwords.words('english'))\n",
    "\n",
    "filtered_tags = [t for t in tags_tokens if not t in stop_words ]\n",
    "\n",
    "\n",
    "tags = Counter(filtered_tags)"
   ]
  },
  {
   "cell_type": "code",
   "execution_count": 72,
   "id": "9242268d",
   "metadata": {},
   "outputs": [
    {
     "data": {
      "image/png": "[encoded data removed]",
      "text/plain": [
       "<Figure size 864x1080 with 1 Axes>"
      ]
     },
     "metadata": {},
     "output_type": "display_data"
    }
   ],
   "source": [
    "def show_histogram(word_counts, title=None):\n",
    "\n",
    "    plot_df = pd.DataFrame.from_dict(word_counts).rename(columns={0:'Token', 1:'Count'})\n",
    "    \n",
    "    f, ax = plt.subplots(figsize=(12, 15))\n",
    "    p = sns.barplot(x=\"Count\", y=\"Token\", data=plot_df, color=\"b\")\n",
    "    p.set(xlabel=\"Count\", ylabel=\"\", title=title)\n",
    "    \n",
    "show_histogram(tags.most_common(30), \"30 Najczęściej występujacych słów\")"
   ]
  },
  {
   "cell_type": "code",
   "execution_count": 73,
   "id": "b5584c3e",
   "metadata": {},
   "outputs": [],
   "source": [
    "#Przygotowanie tagów pod wykrycie kategorii\n",
    "def filter_tag(tag):\n",
    "    tags = re.sub('[^a-zA-Z]', ' ', tag) #usuń znaki specjalne\n",
    "    tags = re.compile(r\"\\s+\").sub(\" \", tags).strip() #usuń nadmiarowe spacje\n",
    "    tags_tokens = word_tokenize(tags)\n",
    "    tags_tokens = [t.lower() for t in tags_tokens]\n",
    "\n",
    "    stop_words = set(stopwords.words('english'))\n",
    "\n",
    "    filtered_tags = [t for t in tags_tokens if not t in stop_words]\n",
    "    return set(filtered_tags)\n",
    "\n",
    "df['filtered_tags'] = df['tags'].apply(filter_tag)"
   ]
  },
  {
   "cell_type": "code",
   "execution_count": 74,
   "id": "cd71eb82",
   "metadata": {},
   "outputs": [
    {
     "data": {
      "text/plain": [
       "<AxesSubplot:title={'center':'Ilość informatywnych tagów'}, xlabel='tags_len', ylabel='Count'>"
      ]
     },
     "execution_count": 74,
     "metadata": {},
     "output_type": "execute_result"
    },
    {
     "data": {
      "image/png": "[encoded data removed]",
      "text/plain": [
       "<Figure size 432x288 with 1 Axes>"
      ]
     },
     "metadata": {},
     "output_type": "display_data"
    }
   ],
   "source": [
    "#Ilość unikalnych tagów\n",
    "df['tags_len'] = df['filtered_tags'].apply(lambda x: len(x))\n",
    "plt.title(\"Ilość informatywnych tagów\")\n",
    "sns.histplot(data=df, x='tags_len', bins=10)"
   ]
  },
  {
   "cell_type": "code",
   "execution_count": 75,
   "id": "32b74614",
   "metadata": {},
   "outputs": [
    {
     "data": {
      "text/html": [
       "<div>\n",
       "<style scoped>\n",
       "    .dataframe tbody tr th:only-of-type {\n",
       "        vertical-align: middle;\n",
       "    }\n",
       "\n",
       "    .dataframe tbody tr th {\n",
       "        vertical-align: top;\n",
       "    }\n",
       "\n",
       "    .dataframe thead th {\n",
       "        text-align: right;\n",
       "    }\n",
       "</style>\n",
       "<table border=\"1\" class=\"dataframe\">\n",
       "  <thead>\n",
       "    <tr style=\"text-align: right;\">\n",
       "      <th></th>\n",
       "      <th>video_id</th>\n",
       "      <th>categoryId</th>\n",
       "      <th>publishedAt_hour</th>\n",
       "      <th>title_len</th>\n",
       "      <th>title_capitalised</th>\n",
       "      <th>title_punctuation</th>\n",
       "      <th>description_capitalised</th>\n",
       "      <th>description_punctuation</th>\n",
       "      <th>description_len</th>\n",
       "      <th>filtered_tags</th>\n",
       "      <th>tags_len</th>\n",
       "    </tr>\n",
       "  </thead>\n",
       "  <tbody>\n",
       "    <tr>\n",
       "      <th>0</th>\n",
       "      <td>3C66w5Z0ixs</td>\n",
       "      <td>NaN</td>\n",
       "      <td>19</td>\n",
       "      <td>34</td>\n",
       "      <td>True</td>\n",
       "      <td>True</td>\n",
       "      <td>False</td>\n",
       "      <td>True</td>\n",
       "      <td>362</td>\n",
       "      <td>{prank, funny, brother, mama, ghost, videos, n...</td>\n",
       "      <td>18</td>\n",
       "    </tr>\n",
       "    <tr>\n",
       "      <th>1</th>\n",
       "      <td>M9Pmf9AB4Mo</td>\n",
       "      <td>20.0</td>\n",
       "      <td>17</td>\n",
       "      <td>60</td>\n",
       "      <td>False</td>\n",
       "      <td>True</td>\n",
       "      <td>False</td>\n",
       "      <td>True</td>\n",
       "      <td>716</td>\n",
       "      <td>{fun, titanfall, origin, royale, multiplayer, ...</td>\n",
       "      <td>27</td>\n",
       "    </tr>\n",
       "    <tr>\n",
       "      <th>2</th>\n",
       "      <td>J78aPJ3VyNs</td>\n",
       "      <td>NaN</td>\n",
       "      <td>16</td>\n",
       "      <td>53</td>\n",
       "      <td>False</td>\n",
       "      <td>True</td>\n",
       "      <td>False</td>\n",
       "      <td>True</td>\n",
       "      <td>514</td>\n",
       "      <td>{compilation, dank, fan, memes, jacksepticeye,...</td>\n",
       "      <td>23</td>\n",
       "    </tr>\n",
       "    <tr>\n",
       "      <th>3</th>\n",
       "      <td>kXLn3HkpjaA</td>\n",
       "      <td>NaN</td>\n",
       "      <td>16</td>\n",
       "      <td>56</td>\n",
       "      <td>False</td>\n",
       "      <td>True</td>\n",
       "      <td>False</td>\n",
       "      <td>True</td>\n",
       "      <td>763</td>\n",
       "      <td>{rapper, hip, keem, xxl, rap, wave, g, baby, c...</td>\n",
       "      <td>28</td>\n",
       "    </tr>\n",
       "    <tr>\n",
       "      <th>4</th>\n",
       "      <td>VIUo6yapDbc</td>\n",
       "      <td>NaN</td>\n",
       "      <td>15</td>\n",
       "      <td>55</td>\n",
       "      <td>False</td>\n",
       "      <td>True</td>\n",
       "      <td>False</td>\n",
       "      <td>True</td>\n",
       "      <td>2494</td>\n",
       "      <td>{movie, theater, savannah, makeover, mr, colla...</td>\n",
       "      <td>38</td>\n",
       "    </tr>\n",
       "    <tr>\n",
       "      <th>5</th>\n",
       "      <td>w-aidBdvZo8</td>\n",
       "      <td>24.0</td>\n",
       "      <td>20</td>\n",
       "      <td>56</td>\n",
       "      <td>False</td>\n",
       "      <td>True</td>\n",
       "      <td>True</td>\n",
       "      <td>True</td>\n",
       "      <td>1390</td>\n",
       "      <td>{professorlive, v, professor, achilles, injury...</td>\n",
       "      <td>6</td>\n",
       "    </tr>\n",
       "    <tr>\n",
       "      <th>6</th>\n",
       "      <td>uet14uf9NsE</td>\n",
       "      <td>26.0</td>\n",
       "      <td>0</td>\n",
       "      <td>24</td>\n",
       "      <td>True</td>\n",
       "      <td>True</td>\n",
       "      <td>False</td>\n",
       "      <td>True</td>\n",
       "      <td>579</td>\n",
       "      <td>{none}</td>\n",
       "      <td>1</td>\n",
       "    </tr>\n",
       "    <tr>\n",
       "      <th>7</th>\n",
       "      <td>ua4QMFQATco</td>\n",
       "      <td>27.0</td>\n",
       "      <td>17</td>\n",
       "      <td>18</td>\n",
       "      <td>False</td>\n",
       "      <td>False</td>\n",
       "      <td>False</td>\n",
       "      <td>True</td>\n",
       "      <td>1237</td>\n",
       "      <td>{hello, cgpgrey, internet, education}</td>\n",
       "      <td>4</td>\n",
       "    </tr>\n",
       "  </tbody>\n",
       "</table>\n",
       "</div>"
      ],
      "text/plain": [
       "      video_id  categoryId  publishedAt_hour  title_len  title_capitalised  \\\n",
       "0  3C66w5Z0ixs         NaN                19         34               True   \n",
       "1  M9Pmf9AB4Mo        20.0                17         60              False   \n",
       "2  J78aPJ3VyNs         NaN                16         53              False   \n",
       "3  kXLn3HkpjaA         NaN                16         56              False   \n",
       "4  VIUo6yapDbc         NaN                15         55              False   \n",
       "5  w-aidBdvZo8        24.0                20         56              False   \n",
       "6  uet14uf9NsE        26.0                 0         24               True   \n",
       "7  ua4QMFQATco        27.0                17         18              False   \n",
       "\n",
       "   title_punctuation  description_capitalised  description_punctuation  \\\n",
       "0               True                    False                     True   \n",
       "1               True                    False                     True   \n",
       "2               True                    False                     True   \n",
       "3               True                    False                     True   \n",
       "4               True                    False                     True   \n",
       "5               True                     True                     True   \n",
       "6               True                    False                     True   \n",
       "7              False                    False                     True   \n",
       "\n",
       "   description_len                                      filtered_tags  \\\n",
       "0              362  {prank, funny, brother, mama, ghost, videos, n...   \n",
       "1              716  {fun, titanfall, origin, royale, multiplayer, ...   \n",
       "2              514  {compilation, dank, fan, memes, jacksepticeye,...   \n",
       "3              763  {rapper, hip, keem, xxl, rap, wave, g, baby, c...   \n",
       "4             2494  {movie, theater, savannah, makeover, mr, colla...   \n",
       "5             1390  {professorlive, v, professor, achilles, injury...   \n",
       "6              579                                             {none}   \n",
       "7             1237              {hello, cgpgrey, internet, education}   \n",
       "\n",
       "   tags_len  \n",
       "0        18  \n",
       "1        27  \n",
       "2        23  \n",
       "3        28  \n",
       "4        38  \n",
       "5         6  \n",
       "6         1  \n",
       "7         4  "
      ]
     },
     "execution_count": 75,
     "metadata": {},
     "output_type": "execute_result"
    }
   ],
   "source": [
    "df.drop(['title', 'channelTitle', 'tags', 'description', 'publishedAt'], axis=1).head(8)"
   ]
  },
  {
   "cell_type": "code",
   "execution_count": 76,
   "id": "096c6a9b",
   "metadata": {},
   "outputs": [
    {
     "data": {
      "text/plain": [
       "'dorobic jeszcze do 1. etapu ilosc dni pod rzad w trending (jednoczesnie eliminujac powtorzenia danych filmow) \\n\\nwspolczynnik responsywnosci (lajki/komentarze do wyswietlen )\\nZłapać jeszcze tagi w kategorie (gry, podroze itp. )\\nprzypisac nazwy kategoriom \\n'"
      ]
     },
     "execution_count": 76,
     "metadata": {},
     "output_type": "execute_result"
    }
   ],
   "source": [
    "#TODO\n",
    "#zapisac df\n",
    "'''dorobic jeszcze do 1. etapu ilosc dni pod rzad w trending (jednoczesnie eliminujac powtorzenia danych filmow) \n",
    "\n",
    "wspolczynnik responsywnosci (lajki/komentarze do wyswietlen )\n",
    "Złapać jeszcze tagi w kategorie (gry, podroze itp. )\n",
    "przypisac nazwy kategoriom \n",
    "'''"
   ]
  },
  {
   "cell_type": "code",
   "execution_count": 77,
   "id": "761e6a1a",
   "metadata": {},
   "outputs": [],
   "source": [
    "df.to_csv('df_stage1', index=False)"
   ]
  },
  {
   "cell_type": "code",
   "execution_count": 82,
   "id": "862e3c67",
   "metadata": {},
   "outputs": [],
   "source": [
    "#usunac powtorzenia, do stage1 zapisac tylko nowe cechy i dokleic je w etapie 3\n",
    "df = df.drop_duplicates(subset=['video_id'], keep='first')\n",
    "df.to_csv('df_stage1', index=False)"
   ]
  },
  {
   "cell_type": "code",
   "execution_count": 81,
   "id": "352dca78",
   "metadata": {},
   "outputs": [
    {
     "data": {
      "text/html": [
       "<div>\n",
       "<style scoped>\n",
       "    .dataframe tbody tr th:only-of-type {\n",
       "        vertical-align: middle;\n",
       "    }\n",
       "\n",
       "    .dataframe tbody tr th {\n",
       "        vertical-align: top;\n",
       "    }\n",
       "\n",
       "    .dataframe thead th {\n",
       "        text-align: right;\n",
       "    }\n",
       "</style>\n",
       "<table border=\"1\" class=\"dataframe\">\n",
       "  <thead>\n",
       "    <tr style=\"text-align: right;\">\n",
       "      <th></th>\n",
       "      <th>video_id</th>\n",
       "      <th>title</th>\n",
       "      <th>publishedAt</th>\n",
       "      <th>channelTitle</th>\n",
       "      <th>categoryId</th>\n",
       "      <th>tags</th>\n",
       "      <th>description</th>\n",
       "      <th>publishedAt_hour</th>\n",
       "      <th>title_len</th>\n",
       "      <th>title_capitalised</th>\n",
       "      <th>title_punctuation</th>\n",
       "      <th>description_capitalised</th>\n",
       "      <th>description_punctuation</th>\n",
       "      <th>description_len</th>\n",
       "      <th>filtered_tags</th>\n",
       "      <th>tags_len</th>\n",
       "    </tr>\n",
       "  </thead>\n",
       "  <tbody>\n",
       "    <tr>\n",
       "      <th>0</th>\n",
       "      <td>3C66w5Z0ixs</td>\n",
       "      <td>I ASKED HER TO BE MY GIRLFRIEND...</td>\n",
       "      <td>2020-08-11 19:20:14+00:00</td>\n",
       "      <td>Brawadis</td>\n",
       "      <td>NaN</td>\n",
       "      <td>brawadis|prank|basketball|skits|ghost|funny vi...</td>\n",
       "      <td>SUBSCRIBE to BRAWADIS ? http://bit.ly/Subscrib...</td>\n",
       "      <td>19</td>\n",
       "      <td>34</td>\n",
       "      <td>True</td>\n",
       "      <td>True</td>\n",
       "      <td>False</td>\n",
       "      <td>True</td>\n",
       "      <td>362</td>\n",
       "      <td>{prank, funny, brother, mama, ghost, videos, n...</td>\n",
       "      <td>18</td>\n",
       "    </tr>\n",
       "    <tr>\n",
       "      <th>1</th>\n",
       "      <td>M9Pmf9AB4Mo</td>\n",
       "      <td>Apex Legends | Stories from the Outlands – “Th...</td>\n",
       "      <td>2020-08-11 17:00:10+00:00</td>\n",
       "      <td>Apex Legends</td>\n",
       "      <td>20.0</td>\n",
       "      <td>Apex Legends|Apex Legends characters|new Apex ...</td>\n",
       "      <td>While running her own modding shop, Ramya Pare...</td>\n",
       "      <td>17</td>\n",
       "      <td>60</td>\n",
       "      <td>False</td>\n",
       "      <td>True</td>\n",
       "      <td>False</td>\n",
       "      <td>True</td>\n",
       "      <td>716</td>\n",
       "      <td>{fun, titanfall, origin, royale, multiplayer, ...</td>\n",
       "      <td>27</td>\n",
       "    </tr>\n",
       "    <tr>\n",
       "      <th>2</th>\n",
       "      <td>J78aPJ3VyNs</td>\n",
       "      <td>I left youtube for a month and THIS is what ha...</td>\n",
       "      <td>2020-08-11 16:34:06+00:00</td>\n",
       "      <td>jacksepticeye</td>\n",
       "      <td>NaN</td>\n",
       "      <td>jacksepticeye|funny|funny meme|memes|jacksepti...</td>\n",
       "      <td>I left youtube for a month and this is what ha...</td>\n",
       "      <td>16</td>\n",
       "      <td>53</td>\n",
       "      <td>False</td>\n",
       "      <td>True</td>\n",
       "      <td>False</td>\n",
       "      <td>True</td>\n",
       "      <td>514</td>\n",
       "      <td>{compilation, dank, fan, memes, jacksepticeye,...</td>\n",
       "      <td>23</td>\n",
       "    </tr>\n",
       "    <tr>\n",
       "      <th>3</th>\n",
       "      <td>kXLn3HkpjaA</td>\n",
       "      <td>XXL 2020 Freshman Class Revealed - Official An...</td>\n",
       "      <td>2020-08-11 16:38:55+00:00</td>\n",
       "      <td>XXL</td>\n",
       "      <td>NaN</td>\n",
       "      <td>xxl freshman|xxl freshmen|2020 xxl freshman|20...</td>\n",
       "      <td>Subscribe to XXL ? http://bit.ly/subscribe-xxl...</td>\n",
       "      <td>16</td>\n",
       "      <td>56</td>\n",
       "      <td>False</td>\n",
       "      <td>True</td>\n",
       "      <td>False</td>\n",
       "      <td>True</td>\n",
       "      <td>763</td>\n",
       "      <td>{rapper, hip, keem, xxl, rap, wave, g, baby, c...</td>\n",
       "      <td>28</td>\n",
       "    </tr>\n",
       "    <tr>\n",
       "      <th>4</th>\n",
       "      <td>VIUo6yapDbc</td>\n",
       "      <td>Ultimate DIY Home Movie Theater for The LaBran...</td>\n",
       "      <td>2020-08-11 15:10:05+00:00</td>\n",
       "      <td>Mr. Kate</td>\n",
       "      <td>NaN</td>\n",
       "      <td>The LaBrant Family|DIY|Interior Design|Makeove...</td>\n",
       "      <td>Transforming The LaBrant Family's empty white ...</td>\n",
       "      <td>15</td>\n",
       "      <td>55</td>\n",
       "      <td>False</td>\n",
       "      <td>True</td>\n",
       "      <td>False</td>\n",
       "      <td>True</td>\n",
       "      <td>2494</td>\n",
       "      <td>{movie, theater, savannah, makeover, mr, colla...</td>\n",
       "      <td>38</td>\n",
       "    </tr>\n",
       "    <tr>\n",
       "      <th>...</th>\n",
       "      <td>...</td>\n",
       "      <td>...</td>\n",
       "      <td>...</td>\n",
       "      <td>...</td>\n",
       "      <td>...</td>\n",
       "      <td>...</td>\n",
       "      <td>...</td>\n",
       "      <td>...</td>\n",
       "      <td>...</td>\n",
       "      <td>...</td>\n",
       "      <td>...</td>\n",
       "      <td>...</td>\n",
       "      <td>...</td>\n",
       "      <td>...</td>\n",
       "      <td>...</td>\n",
       "      <td>...</td>\n",
       "    </tr>\n",
       "    <tr>\n",
       "      <th>115224</th>\n",
       "      <td>r93stUU8yXA</td>\n",
       "      <td>Drills in Minecraft are Overpowered... #shorts</td>\n",
       "      <td>2022-03-05 22:16:27+00:00</td>\n",
       "      <td>Hystonic Shorts</td>\n",
       "      <td>20.0</td>\n",
       "      <td>minecraftmeme|minecraft|earthsmp|bedrocksmp|sh...</td>\n",
       "      <td>Drills in Minecraft are Overpowered...MineWave...</td>\n",
       "      <td>22</td>\n",
       "      <td>46</td>\n",
       "      <td>False</td>\n",
       "      <td>True</td>\n",
       "      <td>False</td>\n",
       "      <td>True</td>\n",
       "      <td>400</td>\n",
       "      <td>{minecraftmeme, java, minecraft, smp, bedrock,...</td>\n",
       "      <td>22</td>\n",
       "    </tr>\n",
       "    <tr>\n",
       "      <th>115225</th>\n",
       "      <td>84LhrZ-NN_E</td>\n",
       "      <td>Hermitcraft 9: Episode 1 - A FRESH START!</td>\n",
       "      <td>2022-03-05 18:54:42+00:00</td>\n",
       "      <td>PearlescentMoon</td>\n",
       "      <td>NaN</td>\n",
       "      <td>hermitcraft season 9|hermitcraft|PearlescentMo...</td>\n",
       "      <td>In this brand new season of Hermitcraft, we st...</td>\n",
       "      <td>18</td>\n",
       "      <td>41</td>\n",
       "      <td>False</td>\n",
       "      <td>True</td>\n",
       "      <td>False</td>\n",
       "      <td>True</td>\n",
       "      <td>482</td>\n",
       "      <td>{pearlescentmoon, lets, season, new, one, mine...</td>\n",
       "      <td>10</td>\n",
       "    </tr>\n",
       "    <tr>\n",
       "      <th>115228</th>\n",
       "      <td>ZGsavMW4770</td>\n",
       "      <td>Pour The Perfect Drink Every Time! ?</td>\n",
       "      <td>2022-03-06 01:00:07+00:00</td>\n",
       "      <td>Joey Rogoff</td>\n",
       "      <td>NaN</td>\n",
       "      <td>[None]</td>\n",
       "      <td>\\r</td>\n",
       "      <td>1</td>\n",
       "      <td>36</td>\n",
       "      <td>False</td>\n",
       "      <td>True</td>\n",
       "      <td>False</td>\n",
       "      <td>False</td>\n",
       "      <td>1</td>\n",
       "      <td>{none}</td>\n",
       "      <td>1</td>\n",
       "    </tr>\n",
       "    <tr>\n",
       "      <th>115229</th>\n",
       "      <td>_3xV0J3dzMs</td>\n",
       "      <td>The evolution of a magician ? #shorts</td>\n",
       "      <td>2022-03-05 22:00:15+00:00</td>\n",
       "      <td>The Card Guy</td>\n",
       "      <td>NaN</td>\n",
       "      <td>[None]</td>\n",
       "      <td>\\r</td>\n",
       "      <td>22</td>\n",
       "      <td>37</td>\n",
       "      <td>False</td>\n",
       "      <td>True</td>\n",
       "      <td>False</td>\n",
       "      <td>False</td>\n",
       "      <td>1</td>\n",
       "      <td>{none}</td>\n",
       "      <td>1</td>\n",
       "    </tr>\n",
       "    <tr>\n",
       "      <th>115233</th>\n",
       "      <td>h2UN0EtuY1g</td>\n",
       "      <td>WARRIORS at LAKERS | FULL GAME HIGHLIGHTS | Ma...</td>\n",
       "      <td>2022-03-06 04:14:33+00:00</td>\n",
       "      <td>NBA</td>\n",
       "      <td>NaN</td>\n",
       "      <td>Basketball|G League|NBA|game-0022100959</td>\n",
       "      <td>Stream More Live Games With NBA LEAGUE PASS: h...</td>\n",
       "      <td>4</td>\n",
       "      <td>57</td>\n",
       "      <td>False</td>\n",
       "      <td>True</td>\n",
       "      <td>False</td>\n",
       "      <td>True</td>\n",
       "      <td>134</td>\n",
       "      <td>{game, nba, g, league, basketball}</td>\n",
       "      <td>5</td>\n",
       "    </tr>\n",
       "  </tbody>\n",
       "</table>\n",
       "<p>20831 rows × 16 columns</p>\n",
       "</div>"
      ],
      "text/plain": [
       "           video_id                                              title  \\\n",
       "0       3C66w5Z0ixs                 I ASKED HER TO BE MY GIRLFRIEND...   \n",
       "1       M9Pmf9AB4Mo  Apex Legends | Stories from the Outlands – “Th...   \n",
       "2       J78aPJ3VyNs  I left youtube for a month and THIS is what ha...   \n",
       "3       kXLn3HkpjaA  XXL 2020 Freshman Class Revealed - Official An...   \n",
       "4       VIUo6yapDbc  Ultimate DIY Home Movie Theater for The LaBran...   \n",
       "...             ...                                                ...   \n",
       "115224  r93stUU8yXA     Drills in Minecraft are Overpowered... #shorts   \n",
       "115225  84LhrZ-NN_E          Hermitcraft 9: Episode 1 - A FRESH START!   \n",
       "115228  ZGsavMW4770               Pour The Perfect Drink Every Time! ?   \n",
       "115229  _3xV0J3dzMs              The evolution of a magician ? #shorts   \n",
       "115233  h2UN0EtuY1g  WARRIORS at LAKERS | FULL GAME HIGHLIGHTS | Ma...   \n",
       "\n",
       "                     publishedAt     channelTitle  categoryId  \\\n",
       "0      2020-08-11 19:20:14+00:00         Brawadis         NaN   \n",
       "1      2020-08-11 17:00:10+00:00     Apex Legends        20.0   \n",
       "2      2020-08-11 16:34:06+00:00    jacksepticeye         NaN   \n",
       "3      2020-08-11 16:38:55+00:00              XXL         NaN   \n",
       "4      2020-08-11 15:10:05+00:00         Mr. Kate         NaN   \n",
       "...                          ...              ...         ...   \n",
       "115224 2022-03-05 22:16:27+00:00  Hystonic Shorts        20.0   \n",
       "115225 2022-03-05 18:54:42+00:00  PearlescentMoon         NaN   \n",
       "115228 2022-03-06 01:00:07+00:00      Joey Rogoff         NaN   \n",
       "115229 2022-03-05 22:00:15+00:00     The Card Guy         NaN   \n",
       "115233 2022-03-06 04:14:33+00:00              NBA         NaN   \n",
       "\n",
       "                                                     tags  \\\n",
       "0       brawadis|prank|basketball|skits|ghost|funny vi...   \n",
       "1       Apex Legends|Apex Legends characters|new Apex ...   \n",
       "2       jacksepticeye|funny|funny meme|memes|jacksepti...   \n",
       "3       xxl freshman|xxl freshmen|2020 xxl freshman|20...   \n",
       "4       The LaBrant Family|DIY|Interior Design|Makeove...   \n",
       "...                                                   ...   \n",
       "115224  minecraftmeme|minecraft|earthsmp|bedrocksmp|sh...   \n",
       "115225  hermitcraft season 9|hermitcraft|PearlescentMo...   \n",
       "115228                                             [None]   \n",
       "115229                                             [None]   \n",
       "115233            Basketball|G League|NBA|game-0022100959   \n",
       "\n",
       "                                              description  publishedAt_hour  \\\n",
       "0       SUBSCRIBE to BRAWADIS ? http://bit.ly/Subscrib...                19   \n",
       "1       While running her own modding shop, Ramya Pare...                17   \n",
       "2       I left youtube for a month and this is what ha...                16   \n",
       "3       Subscribe to XXL ? http://bit.ly/subscribe-xxl...                16   \n",
       "4       Transforming The LaBrant Family's empty white ...                15   \n",
       "...                                                   ...               ...   \n",
       "115224  Drills in Minecraft are Overpowered...MineWave...                22   \n",
       "115225  In this brand new season of Hermitcraft, we st...                18   \n",
       "115228                                                 \\r                 1   \n",
       "115229                                                 \\r                22   \n",
       "115233  Stream More Live Games With NBA LEAGUE PASS: h...                 4   \n",
       "\n",
       "        title_len  title_capitalised  title_punctuation  \\\n",
       "0              34               True               True   \n",
       "1              60              False               True   \n",
       "2              53              False               True   \n",
       "3              56              False               True   \n",
       "4              55              False               True   \n",
       "...           ...                ...                ...   \n",
       "115224         46              False               True   \n",
       "115225         41              False               True   \n",
       "115228         36              False               True   \n",
       "115229         37              False               True   \n",
       "115233         57              False               True   \n",
       "\n",
       "        description_capitalised  description_punctuation  description_len  \\\n",
       "0                         False                     True              362   \n",
       "1                         False                     True              716   \n",
       "2                         False                     True              514   \n",
       "3                         False                     True              763   \n",
       "4                         False                     True             2494   \n",
       "...                         ...                      ...              ...   \n",
       "115224                    False                     True              400   \n",
       "115225                    False                     True              482   \n",
       "115228                    False                    False                1   \n",
       "115229                    False                    False                1   \n",
       "115233                    False                     True              134   \n",
       "\n",
       "                                            filtered_tags  tags_len  \n",
       "0       {prank, funny, brother, mama, ghost, videos, n...        18  \n",
       "1       {fun, titanfall, origin, royale, multiplayer, ...        27  \n",
       "2       {compilation, dank, fan, memes, jacksepticeye,...        23  \n",
       "3       {rapper, hip, keem, xxl, rap, wave, g, baby, c...        28  \n",
       "4       {movie, theater, savannah, makeover, mr, colla...        38  \n",
       "...                                                   ...       ...  \n",
       "115224  {minecraftmeme, java, minecraft, smp, bedrock,...        22  \n",
       "115225  {pearlescentmoon, lets, season, new, one, mine...        10  \n",
       "115228                                             {none}         1  \n",
       "115229                                             {none}         1  \n",
       "115233                 {game, nba, g, league, basketball}         5  \n",
       "\n",
       "[20831 rows x 16 columns]"
      ]
     },
     "execution_count": 81,
     "metadata": {},
     "output_type": "execute_result"
    }
   ],
   "source": [
    "df"
   ]
  },
  {
   "cell_type": "code",
   "execution_count": null,
   "id": "92630712",
   "metadata": {},
   "outputs": [],
   "source": []
  }
 ],
 "metadata": {
  "kernelspec": {
   "display_name": "Python 3 (ipykernel)",
   "language": "python",
   "name": "python3"
  },
  "language_info": {
   "codemirror_mode": {
    "name": "ipython",
    "version": 3
   },
   "file_extension": ".py",
   "mimetype": "text/x-python",
   "name": "python",
   "nbconvert_exporter": "python",
   "pygments_lexer": "ipython3",
   "version": "3.9.7"
  }
 },
 "nbformat": 4,
 "nbformat_minor": 5
}
